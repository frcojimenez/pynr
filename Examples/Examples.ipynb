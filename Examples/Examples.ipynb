{
 "cells": [
  {
   "cell_type": "code",
   "execution_count": 1,
   "id": "4c531811-f15d-4ad9-9e40-f084440ab726",
   "metadata": {},
   "outputs": [],
   "source": [
    "import pynr as nr\n",
    "import matplotlib.pyplot as plt"
   ]
  },
  {
   "cell_type": "markdown",
   "id": "1fdbb590-84e5-497c-8dfc-378c3565a375",
   "metadata": {},
   "source": [
    "Load the RIT data"
   ]
  },
  {
   "cell_type": "code",
   "execution_count": 2,
   "id": "eb99082f-6139-43a0-b059-ec0630dac9cd",
   "metadata": {},
   "outputs": [
    {
     "data": {
      "text/plain": [
       "\u001b[0;31mSignature:\u001b[0m\n",
       "\u001b[0mnr\u001b[0m\u001b[0;34m.\u001b[0m\u001b[0mnr_waveform\u001b[0m\u001b[0;34m(\u001b[0m\u001b[0;34m\u001b[0m\n",
       "\u001b[0;34m\u001b[0m    \u001b[0mdownload_Q\u001b[0m\u001b[0;34m=\u001b[0m\u001b[0;32mTrue\u001b[0m\u001b[0;34m,\u001b[0m\u001b[0;34m\u001b[0m\n",
       "\u001b[0;34m\u001b[0m    \u001b[0mroot_folder\u001b[0m\u001b[0;34m=\u001b[0m\u001b[0;32mNone\u001b[0m\u001b[0;34m,\u001b[0m\u001b[0;34m\u001b[0m\n",
       "\u001b[0;34m\u001b[0m    \u001b[0mpycbc_format\u001b[0m\u001b[0;34m=\u001b[0m\u001b[0;32mTrue\u001b[0m\u001b[0;34m,\u001b[0m\u001b[0;34m\u001b[0m\n",
       "\u001b[0;34m\u001b[0m    \u001b[0mmodes\u001b[0m\u001b[0;34m=\u001b[0m\u001b[0;34m[\u001b[0m\u001b[0;34m[\u001b[0m\u001b[0;36m2\u001b[0m\u001b[0;34m,\u001b[0m \u001b[0;36m2\u001b[0m\u001b[0;34m]\u001b[0m\u001b[0;34m,\u001b[0m \u001b[0;34m[\u001b[0m\u001b[0;36m2\u001b[0m\u001b[0;34m,\u001b[0m \u001b[0;34m-\u001b[0m\u001b[0;36m2\u001b[0m\u001b[0;34m]\u001b[0m\u001b[0;34m]\u001b[0m\u001b[0;34m,\u001b[0m\u001b[0;34m\u001b[0m\n",
       "\u001b[0;34m\u001b[0m    \u001b[0mdistance\u001b[0m\u001b[0;34m=\u001b[0m\u001b[0;36m100\u001b[0m\u001b[0;34m,\u001b[0m\u001b[0;34m\u001b[0m\n",
       "\u001b[0;34m\u001b[0m    \u001b[0minclination\u001b[0m\u001b[0;34m=\u001b[0m\u001b[0;36m0\u001b[0m\u001b[0;34m,\u001b[0m\u001b[0;34m\u001b[0m\n",
       "\u001b[0;34m\u001b[0m    \u001b[0mcoa_phase\u001b[0m\u001b[0;34m=\u001b[0m\u001b[0;36m0\u001b[0m\u001b[0;34m,\u001b[0m\u001b[0;34m\u001b[0m\n",
       "\u001b[0;34m\u001b[0m    \u001b[0mmodes_combined\u001b[0m\u001b[0;34m=\u001b[0m\u001b[0;32mTrue\u001b[0m\u001b[0;34m,\u001b[0m\u001b[0;34m\u001b[0m\n",
       "\u001b[0;34m\u001b[0m    \u001b[0mtapering\u001b[0m\u001b[0;34m=\u001b[0m\u001b[0;32mTrue\u001b[0m\u001b[0;34m,\u001b[0m\u001b[0;34m\u001b[0m\n",
       "\u001b[0;34m\u001b[0m    \u001b[0mRD\u001b[0m\u001b[0;34m=\u001b[0m\u001b[0;32mFalse\u001b[0m\u001b[0;34m,\u001b[0m\u001b[0;34m\u001b[0m\n",
       "\u001b[0;34m\u001b[0m    \u001b[0mzero_align\u001b[0m\u001b[0;34m=\u001b[0m\u001b[0;32mTrue\u001b[0m\u001b[0;34m,\u001b[0m\u001b[0;34m\u001b[0m\n",
       "\u001b[0;34m\u001b[0m    \u001b[0mextrapolation_order\u001b[0m\u001b[0;34m=\u001b[0m\u001b[0;36m2\u001b[0m\u001b[0;34m,\u001b[0m\u001b[0;34m\u001b[0m\n",
       "\u001b[0;34m\u001b[0m    \u001b[0mresolution_level\u001b[0m\u001b[0;34m=\u001b[0m\u001b[0;34m-\u001b[0m\u001b[0;36m1\u001b[0m\u001b[0;34m,\u001b[0m\u001b[0;34m\u001b[0m\n",
       "\u001b[0;34m\u001b[0m    \u001b[0;34m**\u001b[0m\u001b[0margs\u001b[0m\u001b[0;34m,\u001b[0m\u001b[0;34m\u001b[0m\n",
       "\u001b[0;34m\u001b[0m\u001b[0;34m)\u001b[0m\u001b[0;34m\u001b[0m\u001b[0;34m\u001b[0m\u001b[0m\n",
       "\u001b[0;31mDocstring:\u001b[0m\n",
       "Function to load the waveforms from the NR catalogues. \n",
       "\n",
       "    Parameters\n",
       "----------\n",
       "code: {'SXS','RIT','MAYA'}. Select the catalogue you want the data from.\n",
       "tag: eg. {'SXS:BBH:0305','RIT-BBH-0001','GT0001'}. Tag of the target waveform.\n",
       "download_Q: logical, optional, Default = True. If True downloads the data from the catalogue url.\n",
       "root_folder: string, optional, Default = None. If download_Q = False, it must be provided.\n",
       "pycbc_format: logical, optional, Default=True. If True it provides hp, hc in the Timeseries format.\n",
       "\n",
       "mass: Total mass in solar masses. \n",
       "modes: list of modes, optional, Default= [[2,2],[2,-2]].\n",
       "distance: Distance, optional, Default = 100 Mpc.\n",
       "inclination: Inclination, optional, Default = 0.\n",
       "coa_phase: Coalescense phase, optional, Default = 0.\n",
       "\n",
       "modes_combined: list, optional, Default = True. If False it splits the list of individual modes.\n",
       "delta_t: time sampling. \n",
       "tapering: logical, optional, Default = True. If True it applies a Tanh tappering function at the initial and ending points of the data.\n",
       "RD: logical, optional, Default= False. If True it provides the ringdown part.\n",
       "zero_align: logical, optional, Default= True. If True it aligns the waveform such that the peak of the strain is at t=0.   \n",
       "\n",
       "-- Applied for the SXS data.\n",
       "extrapolation_order: int, {2,3,4}, Default=2. SXS extrapolation order.\n",
       "resolution_level: int, {1,2,...}, Default = -1. It takes by default the best resolution available.\n",
       "\n",
       "\n",
       "Returns\n",
       "-------\n",
       "hplus: The plus polarization of the waveform.\n",
       "hcross: The cross polarization of the waveform.\n",
       "\u001b[0;31mFile:\u001b[0m      ~/venv_sc/lib/python3.7/site-packages/pynr-0.1.0-py3.7.egg/pynr/pynr.py\n",
       "\u001b[0;31mType:\u001b[0m      function\n"
      ]
     },
     "metadata": {},
     "output_type": "display_data"
    }
   ],
   "source": [
    "nr.nr_waveform?"
   ]
  },
  {
   "cell_type": "code",
   "execution_count": 2,
   "id": "2e7596af-a764-4099-94fd-28a65175d4be",
   "metadata": {},
   "outputs": [
    {
     "name": "stdout",
     "output_type": "stream",
     "text": [
      "Extracting and combining modes\n"
     ]
    }
   ],
   "source": [
    "hp_rit,hx_rit= nr.nr_waveform(code='RIT',\n",
    "                              pycbc_format=True,\n",
    "    rit_root_folder='/work/francisco.jimenez/RIT/Data',\n",
    "    download_Q = True,\n",
    "    tag = 'RIT:BBH:0001',\n",
    "    modes  = [[2,2],[2,-2]],\n",
    "    mass  = 100,\n",
    "    distance  = 100,\n",
    "    inclination = 0,\n",
    "    coa_phase = 0,\n",
    "    modes_combined = True,\n",
    "    delta_t = 1/1024,\n",
    "    tapering = False,\n",
    "    RD = False,\n",
    "    zero_align = True)"
   ]
  },
  {
   "cell_type": "markdown",
   "id": "abece8a8-d7d5-4073-aef3-61660a5b073b",
   "metadata": {},
   "source": [
    "Load the SXS data"
   ]
  },
  {
   "cell_type": "code",
   "execution_count": 3,
   "id": "8b544bba-557f-4ef7-ad92-a0987b63c6b4",
   "metadata": {},
   "outputs": [
    {
     "name": "stdout",
     "output_type": "stream",
     "text": [
      "Skipping download from 'https://data.black-holes.org/catalog.json' because local file is newer\n"
     ]
    },
    {
     "name": "stderr",
     "output_type": "stream",
     "text": [
      "/work/francisco.jimenez/venv_sc/lib/python3.7/site-packages/sxs/waveforms/nrar.py:173: UserWarning: \n",
      "Could not find root group as `h5_group` or as `extrapolation_order`; returning all groups\n",
      "  warnings.warn(warning)\n"
     ]
    },
    {
     "name": "stdout",
     "output_type": "stream",
     "text": [
      "Extracting and combining modes\n"
     ]
    }
   ],
   "source": [
    "hp_sxs,hx_sxs= nr.nr_waveform(code='SXS',pycbc_format=True,\n",
    "    download_Q = True,\n",
    "    tag = 'SXS:BBH:0305',\n",
    "    extrapolation_order = 2,\n",
    "    resolution_level = -1,\n",
    "    modes  = [[2,2],[2,-2]],\n",
    "    mass  = 100,\n",
    "    distance  = 100,\n",
    "    inclination = 0,\n",
    "    coa_phase = 0,\n",
    "    modes_combined = True,\n",
    "    delta_t = 1/1024,\n",
    "    tapering = False,\n",
    "    RD = False,\n",
    "    zero_align = True )"
   ]
  },
  {
   "cell_type": "markdown",
   "id": "ba98e7e4-1f40-4746-9c90-2afd840bd87a",
   "metadata": {},
   "source": [
    "Load the MAYA data"
   ]
  },
  {
   "cell_type": "code",
   "execution_count": 4,
   "id": "cba78ceb-f3ed-46f8-95b2-a4c2497d6cdd",
   "metadata": {},
   "outputs": [
    {
     "name": "stdout",
     "output_type": "stream",
     "text": [
      "Extracting and combining modes\n"
     ]
    }
   ],
   "source": [
    "hp_maya,hx_maya= nr.nr_waveform(code='MAYA',pycbc_format=True,\n",
    "    download_Q = True,\n",
    "    tag = 'GT0229',\n",
    "    modes  = [[2,2],[2,-2]],\n",
    "    mass  = 100,\n",
    "    distance  = 100,\n",
    "    inclination = 0,\n",
    "    coa_phase = 0,\n",
    "    modes_combined = True,\n",
    "    delta_t = 1/1024,\n",
    "    tapering = False,\n",
    "    RD = False,\n",
    "    zero_align = True )"
   ]
  },
  {
   "cell_type": "code",
   "execution_count": 6,
   "id": "cf256646-6d25-4c3c-8d19-aa5f7fc8eb53",
   "metadata": {},
   "outputs": [
    {
     "data": {
      "image/png": "[encoded data removed]",
      "text/plain": [
       "<Figure size 432x288 with 1 Axes>"
      ]
     },
     "metadata": {
      "needs_background": "light"
     },
     "output_type": "display_data"
    }
   ],
   "source": [
    "plt.plot(hp_rit.sample_times,hp_rit,label='RIT')\n",
    "plt.plot(hp_sxs.sample_times,hp_sxs,label='SXS')\n",
    "plt.plot(hp_maya.sample_times,hp_maya,label='MAYA')\n",
    "\n",
    "plt.xlabel('t [s]')\n",
    "plt.ylabel('hp')\n",
    "plt.legend()\n",
    "plt.show()"
   ]
  },
  {
   "cell_type": "markdown",
   "id": "bd88cba5-eb81-4c4e-b238-e38dcfe3446c",
   "metadata": {},
   "source": [
    "Find all the SXS BBH non-precessing cases with Massratio in [3,3.2]"
   ]
  },
  {
   "cell_type": "code",
   "execution_count": 9,
   "id": "c755628d-8a59-42c1-82b6-c4e400417fcb",
   "metadata": {},
   "outputs": [
    {
     "name": "stderr",
     "output_type": "stream",
     "text": [
      "/work/francisco.jimenez/venv_sc/lib/python3.7/site-packages/ipykernel_launcher.py:6: VisibleDeprecationWarning: Creating an ndarray from ragged nested sequences (which is a list-or-tuple of lists-or-tuples-or ndarrays with different lengths or shapes) is deprecated. If you meant to do this, you must specify 'dtype=object' when creating the ndarray.\n",
      "  \n"
     ]
    },
    {
     "name": "stdout",
     "output_type": "stream",
     "text": [
      "Found  2019 metadata.json files\n",
      "Wrong conditional keyword:  BHBH\n",
      "             Tag         q $\\chi_{eff}$ $\\chi_{p}$             $\\chi_{1}$             $\\chi_{2}$                                              name\n",
      "0   SXS:BBH:2148  3.000012    -0.075075   0.000001   [0.0, -0.0, -0.0001]      [-0.0, 0.0, -0.3]                                         0276/Lev3\n",
      "1   SXS:BBH:1182  3.000014     -0.00005        0.0  [-0.0, -0.0, -0.0001]    [0.0, -0.0, 0.0001]           BBH_SKS_d13.2_q3_sA_0_0_0_sB_0_0_0/Lev5\n",
      "2   SXS:BBH:2137  3.000015        -0.55   0.000001      [0.0, -0.0, -0.6]       [0.0, 0.0, -0.4]                                         0265/Lev3\n",
      "3   SXS:BBH:2157  3.000041      0.44995        0.0    [0.0, -0.0, 0.3999]   [-0.0, -0.0, 0.6001]                                         0285/Lev3\n",
      "4   SXS:BBH:2163  3.000059     0.599975        0.0   [-0.0, -0.0, 0.5999]     [0.0, 0.0, 0.6002]                                         0291/Lev3\n",
      "5   SXS:BBH:0288  3.000062         0.35        0.0        [0.0, 0.0, 0.6]       [0.0, 0.0, -0.4]  BBH_SKS_d14.4_q3_sA_0_0_0.600_sB_0_0_-0.400/Lev4\n",
      "6   SXS:BBH:2153  3.000065     0.149925        0.0    [0.0, -0.0, 0.2999]       [0.0, 0.0, -0.3]                                         0281/Lev3\n",
      "7   SXS:BBH:2134  3.000066    -0.450175        0.0   [-0.0, 0.0, -0.6002]  [-0.0, -0.0, -0.0001]                                         0262/Lev3\n",
      "8   SXS:BBH:2154  3.000093     0.224925        0.0    [-0.0, 0.0, 0.2999]       [-0.0, 0.0, 0.0]                                         0282/Lev3\n",
      "9   SXS:BBH:0266  3.000094    -0.349925        0.0    [0.0, 0.0, -0.5999]        [0.0, 0.0, 0.4]  BBH_SKS_d15.9_q3_sA_0_0_-0.600_sB_0_0_0.400/Lev4\n",
      "10  SXS:BBH:2138  3.000097      -0.3501        0.0  [-0.0, -0.0, -0.6001]   [-0.0, -0.0, 0.3999]                                         0266/Lev3\n",
      "11  SXS:BBH:1373  3.000104         -0.0        0.0      [-0.0, 0.0, -0.0]      [0.0, -0.0, -0.0]                                     empe_043/Lev6\n",
      "12  SXS:BBH:2143  3.000116      -0.2251        0.0   [0.0, -0.0, -0.3001]   [-0.0, 0.0, -0.0001]                                         0271/Lev3\n",
      "13  SXS:BBH:1372  3.000118          0.0        0.0      [-0.0, 0.0, -0.0]       [-0.0, 0.0, 0.0]                                     empe_045/Lev6\n",
      "14  SXS:BBH:0271  3.000153       -0.225        0.0       [0.0, 0.0, -0.3]      [-0.0, -0.0, 0.0]     BBH_CFMS_d15.6_q3_sA_0_0_-0.300_sB_0_0_0/Lev4\n",
      "15  SXS:BBH:0282  3.000153        0.225        0.0        [0.0, 0.0, 0.3]      [-0.0, -0.0, 0.0]      BBH_CFMS_d14.7_q3_sA_0_0_0.300_sB_0_0_0/Lev4\n",
      "16  SXS:BBH:2158  3.000165     0.500025        0.0        [0.0, 0.0, 0.5]    [-0.0, 0.0, 0.5001]                                         0286/Lev3\n",
      "17  SXS:BBH:2265  3.000166         -0.0        0.0       [0.0, 0.0, -0.0]      [-0.0, 0.0, -0.0]                                          031/Lev2\n",
      "18  SXS:BBH:0289  3.000166         0.45        0.0       [-0.0, 0.0, 0.6]       [0.0, 0.0, -0.0]       BBH_SKS_d14.3_q3_sA_0_0_0.600_sB_0_0_0/Lev4\n",
      "19  SXS:BBH:2161  3.000192      0.44995        0.0    [0.0, -0.0, 0.5999]     [0.0, 0.0, 0.0001]                                         0289/Lev3\n",
      "20  SXS:BBH:1374  3.000262    -0.000075        0.0   [0.0, -0.0, -0.0001]        [0.0, 0.0, 0.0]                                     empe_048/Lev3\n",
      "21  SXS:BBH:1183  3.000601          0.0        0.0        [0.0, 0.0, 0.0]        [0.0, 0.0, 0.0]           BBH_SKS_d13.2_q3_sA_0_0_0_sB_0_0_0/Lev4\n",
      "22  SXS:BBH:1181  3.000702     0.000025        0.0      [0.0, -0.0, -0.0]   [-0.0, -0.0, 0.0001]           BBH_SKS_d13.2_q3_sA_0_0_0_sB_0_0_0/Lev5\n",
      "23  SXS:BBH:0039  3.001318    -0.374625        0.0   [0.0, -0.0, -0.4995]       [0.0, -0.0, 0.0]                  d16.0_q3.0_s0_0_-0.5_s0_0_0/Lev4\n",
      "24  SXS:BBH:0031   3.00132     0.374625        0.0     [0.0, 0.0, 0.4995]       [-0.0, 0.0, 0.0]                   d14.0_q3.0_s0_0_0.5_s0_0_0/Lev4\n",
      "25  SXS:BBH:0036  3.001321    -0.374625        0.0   [0.0, -0.0, -0.4995]        [0.0, 0.0, 0.0]                  d18.0_q3.0_s0_0_-0.5_s0_0_0/Lev5\n",
      "26  SXS:BBH:0105  3.001321    -0.374625        0.0   [0.0, -0.0, -0.4995]      [-0.0, -0.0, 0.0]            d18.0_q3.0_s0_0_-0.5_s0_0_0Ecc2m2/Lev4\n",
      "27  SXS:BBH:0174  3.001321       0.3747        0.0   [-0.0, -0.0, 0.4996]       [-0.0, 0.0, 0.0]                   d17.0_q3.0_s0_0_0.5_s0_0_0/Lev5\n",
      "28  SXS:BBH:0041  3.001324     0.374625        0.0    [-0.0, 0.0, 0.4995]       [0.0, -0.0, 0.0]                     d12.0_q3_s0_0_0.5_s0_0_0/Lev4\n",
      "29  SXS:BBH:0040  3.001327    -0.374625        0.0   [0.0, -0.0, -0.4995]       [0.0, -0.0, 0.0]                    d12.0_q3_s0_0_-0.5_s0_0_0/Lev4\n",
      "30  SXS:BBH:0038  3.001328    -0.374625        0.0    [0.0, 0.0, -0.4995]       [0.0, -0.0, 0.0]                  d14.0_q3.0_s0_0_-0.5_s0_0_0/Lev5\n",
      "31  SXS:BBH:1485  3.092965     0.168513   0.000001    [-0.0, 0.0, 0.3525]   [-0.0, 0.0, -0.4006]                                          075/Lev2\n",
      "32  SXS:BBH:1446  3.153823     -0.42046        0.0      [-0.0, 0.0, -0.8]   [-0.0, -0.0, 0.7767]                                          035/Lev2\n",
      "33  SXS:BBH:1447   3.15953     0.754274   0.000002    [0.0, -0.0, 0.7399]   [-0.0, -0.0, 0.7997]                                          037/Lev3\n",
      "34  SXS:BBH:1483  3.165584     0.379303        0.0    [-0.0, 0.0, 0.5604]   [-0.0, -0.0, -0.194]                                          073/Lev2\n"
     ]
    }
   ],
   "source": [
    "import numpy as np\n",
    "\n",
    "\n",
    "tag='Non-Precessing';\n",
    "sxs_root_folder=\"/work/francisco.jimenez/SXS/data\"\n",
    "conditions=np.asarray([['BHBH',None],['Non-Precessing',None],['Massratio',['>=3','<=3.2']]])\n",
    "values=nr.SXS_Catalogue_Select_cases(sxs_root_folder,conditions,sortcolumn=2,\n",
    "                                      best_resolution=True,verbose=True,tolerance=0.001)"
   ]
  },
  {
   "cell_type": "code",
   "execution_count": null,
   "id": "872c113d-25a9-4ca7-8aab-f642b73e81fe",
   "metadata": {},
   "outputs": [],
   "source": []
  }
 ],
 "metadata": {
  "kernelspec": {
   "display_name": "Python 3",
   "language": "python",
   "name": "python3"
  },
  "language_info": {
   "codemirror_mode": {
    "name": "ipython",
    "version": 3
   },
   "file_extension": ".py",
   "mimetype": "text/x-python",
   "name": "python",
   "nbconvert_exporter": "python",
   "pygments_lexer": "ipython3",
   "version": "3.7.3"
  }
 },
 "nbformat": 4,
 "nbformat_minor": 5
}
