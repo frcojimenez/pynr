{
 "cells": [
  {
   "cell_type": "code",
   "execution_count": 1,
   "id": "4c531811-f15d-4ad9-9e40-f084440ab726",
   "metadata": {},
   "outputs": [],
   "source": [
    "import pynr as nr\n",
    "import matplotlib.pyplot as plt"
   ]
  },
  {
   "cell_type": "markdown",
   "id": "6f786c0e-d184-40ff-952e-ee25f74432a1",
   "metadata": {},
   "source": [
    "Show the metadata keys of each NR code"
   ]
  },
  {
   "cell_type": "code",
   "execution_count": 2,
   "id": "21becf92-f274-4a54-9ead-b73be64765c8",
   "metadata": {},
   "outputs": [
    {
     "data": {
      "text/plain": [
       "dict_keys(['catalog-tag', 'resolution-tag', 'id-tag', 'run-name', 'data-type', 'system-type', 'comments', 'authors-emails', 'simulation-bibtex-keys', 'code-bibtex-keys', 'initial-data-bibtex-keys', 'quasicircular-bibtex-keys', 'eccentricity-bibtex-keys', 'extrapolation-bibtex-keys', 'code', 'evolution-system', 'evolution-gauge', 'cfl', 'fd-order', 'dissipation-order', 'eccentricity-measurement-method', 'eccentricity', 'freq-start-22', 'freq-start-22-Hz-1Msun', 'number-of-cycles-22', 'number-of-orbits', 'initial-data-type', 'initial-ADM-energy', 'initial-orbital-angular-momentum', 'initial-ADM-angular-momentum-x', 'initial-ADM-angular-momentum-y', 'initial-ADM-angular-momentum-z', 'initial-separation', 'initial-mass1', 'initial-mass2', 'initial-total-mass', 'initial-bh-chi1z', 'initial-bh-chi2z', 'relaxed-time', 'relaxed-mass1', 'relaxed-mass2', 'relaxed-total-mass', 'relaxed-mass-ratio-1-over-2', 'relaxed-LNhatx', 'relaxed-LNhaty', 'relaxed-LNhatz', 'relaxed-nhatx', 'relaxed-nhaty', 'relaxed-nhatz', 'relaxed-chi1z', 'relaxed-chi2z', 'final-mass', 'final-chi', 'peak-omega-22', 'peak-ampl-22', 'peak-luminosity-ergs-per-sec', 'final-kick'])"
      ]
     },
     "execution_count": 2,
     "metadata": {},
     "output_type": "execute_result"
    }
   ],
   "source": [
    "nr.nr_metadata_keys('RIT',nr_type='BBH')"
   ]
  },
  {
   "cell_type": "code",
   "execution_count": 3,
   "id": "716a7264-678b-454f-9a43-f2e9cc63c7c4",
   "metadata": {},
   "outputs": [
    {
     "data": {
      "text/plain": [
       "dict_keys(['url', 'simulation_name', 'alternative_names', 'initial_data_type', 'object_types', 'number_of_orbits', 'reference_mass_ratio', 'reference_chi_eff', 'reference_chi1_perp', 'reference_chi2_perp', 'reference_eccentricity', 'reference_dimensionless_spin1', 'reference_dimensionless_spin2', 'reference_orbital_frequency', 'reference_mass1', 'reference_mass2', 'reference_time', 'reference_position1', 'reference_position2', 'reference_mean_anomaly', 'keywords', 'point_of_contact_email', 'authors_emails', 'simulation_bibtex_keys', 'code_bibtex_keys', 'initial_data_bibtex_keys', 'quasicircular_bibtex_keys', 'initial_separation', 'initial_orbital_frequency', 'initial_adot', 'object1', 'object2', 'initial_ADM_energy', 'initial_ADM_linear_momentum', 'initial_ADM_angular_momentum', 'initial_mass1', 'initial_mass2', 'initial_dimensionless_spin1', 'initial_dimensionless_spin2', 'initial_position1', 'initial_position2', 'relaxation_time', 'common_horizon_time', 'remnant_mass', 'remnant_dimensionless_spin', 'remnant_velocity', 'metadata_version', 'spec_revisions', 'spells_revision', 'com_parameters', 'initial_mass_ratio'])"
      ]
     },
     "execution_count": 3,
     "metadata": {},
     "output_type": "execute_result"
    }
   ],
   "source": [
    "nr.nr_metadata_keys('SXS',nr_type='BBH')"
   ]
  },
  {
   "cell_type": "code",
   "execution_count": 4,
   "id": "ef3235ff-2f3e-4490-a75f-612492d4205d",
   "metadata": {},
   "outputs": [
    {
     "data": {
      "text/plain": [
       "dict_keys(['GTID', 'GT_Tag', 'q', 'a1x', 'a1y', 'a1z', 'a2x', 'a2y', 'a2z', 'af', 'mf', 'Momega'])"
      ]
     },
     "execution_count": 4,
     "metadata": {},
     "output_type": "execute_result"
    }
   ],
   "source": [
    "nr.nr_metadata_keys('MAYA',nr_type='BBH')"
   ]
  },
  {
   "cell_type": "code",
   "execution_count": 6,
   "id": "cf085ef6-8943-4a06-92e5-cf4aa4e66d5e",
   "metadata": {},
   "outputs": [
    {
     "name": "stdout",
     "output_type": "stream",
     "text": [
      "            Tag      q       af\n",
      "0   GT:BBH:0428  2.00   0.8095 \n",
      "1   GT:BBH:0430  4.00   0.7794 \n",
      "2   GT:BBH:0432  4.00   0.7585 \n",
      "3   GT:BBH:0458  2.00   0.7223 \n",
      "4   GT:BBH:0459  2.50   0.7151 \n",
      "5   GT:BBH:0460  2.00   0.8045 \n",
      "6   GT:BBH:0461  2.00   0.7766 \n",
      "7   GT:BBH:0465  2.50   0.7875 \n",
      "8   GT:BBH:0466  2.50   0.7563 \n",
      "9   GT:BBH:0468  4.00   0.7485 \n",
      "10  GT:BBH:0469  4.00   0.7148 \n",
      "11  GT:BBH:0472  2.00   0.7697 \n",
      "12  GT:BBH:0480  2.50   0.7312 \n",
      "13  GT:BBH:0578  4.00   0.7784 \n",
      "14  GT:BBH:0587  2.00   0.7175 \n",
      "15  GT:BBH:0588  2.00   0.8387 \n",
      "16  GT:BBH:0596  3.00   0.7126 \n",
      "17  GT:BBH:0600  3.00   0.7957 \n",
      "18  GT:BBH:0603  3.00   0.7552 \n",
      "19  GT:BBH:0607  3.00   0.7176 \n",
      "20  GT:BBH:0613  3.00   0.7178 \n",
      "21  GT:BBH:0626  3.00   0.7189 \n",
      "22  GT:BBH:0628  2.50   0.7499 \n",
      "23  GT:BBH:0630  2.50   0.7762 \n",
      "24  GT:BBH:0645  2.50   0.7241 \n",
      "25  GT:BBH:0646  2.50   0.7585 \n",
      "26  GT:BBH:0647  2.50   0.8047 \n",
      "27  GT:BBH:0648  2.50   0.7970 \n",
      "28  GT:BBH:0649  2.50   0.7833 \n",
      "29  GT:BBH:0666  2.50   0.7947 \n",
      "30  GT:BBH:0668  2.50   0.8043 \n",
      "31  GT:BBH:0669  2.50   0.7753 \n",
      "32  GT:BBH:0671  2.50   0.7370 \n",
      "33  GT:BBH:0676  2.50   0.8255 \n",
      "34  GT:BBH:0677  2.50   0.8203 \n",
      "35  GT:BBH:0678  2.50   0.7370 \n",
      "36  GT:BBH:0679  2.50   0.8038 \n",
      "37  GT:BBH:0681  2.50   0.7753 \n",
      "38  GT:BBH:0682  2.50   0.8038 \n",
      "39  GT:BBH:0683  2.50   0.8204 \n",
      "40  GT:BBH:0689  3.00   0.7738 \n",
      "41  GT:BBH:0690  3.00   0.7516 \n",
      "42  GT:BBH:0691  3.00   0.7150 \n",
      "43  GT:BBH:0694  3.00   0.7980 \n",
      "44  GT:BBH:0698  3.00   0.7912 \n",
      "45  GT:BBH:0712  2.50   0.8064 \n",
      "46  GT:BBH:0715  2.50   0.7333 \n",
      "47  GT:BBH:0718  2.50   0.7877 \n",
      "48  GT:BBH:0720  3.00   0.7647 \n",
      "49  GT:BBH:0721  3.00   0.7855 \n",
      "50  GT:BBH:0722  3.00   0.7959 \n",
      "51  GT:BBH:0723  3.00   0.7364 \n",
      "52  GT:BBH:0725  2.50   0.7663 \n",
      "53  GT:BBH:0732  3.00   0.7915 \n",
      "54  GT:BBH:0733  3.00   0.7629 \n",
      "55  GT:BBH:0734  3.00   0.7270 \n",
      "56  GT:BBH:0868  2.00   0.8030 \n",
      "57  GT:BBH:0869  2.00   0.8030 \n",
      "58  GT:BBH:0874  3.00   0.7449 \n",
      "59  GT:BBH:0875  4.00   0.7293 \n",
      "60  GT:BBH:0878  2.25   0.7477 \n",
      "61  GT:BBH:0879  3.50   0.7369 \n",
      "62  GT:BBH:0881  2.50   0.7508 \n",
      "63  GT:BBH:0890  2.00   0.7753 \n",
      "64  GT:BBH:0895  2.00   0.7541 \n",
      "65  GT:BBH:0896  2.00   0.7541 \n"
     ]
    }
   ],
   "source": [
    "maya_conditions=['BBH',['q',[2,4]],['af',[0.7,0.9]]]\n",
    "maya_selection=nr.nr_catalogue_select(maya_conditions,code='MAYA',verbose=True)"
   ]
  },
  {
   "cell_type": "markdown",
   "id": "e6e5dcb3-8a7d-4662-9e8e-5235b72e4ac3",
   "metadata": {},
   "source": [
    "Select the NR according to a certain parameter range "
   ]
  },
  {
   "cell_type": "code",
   "execution_count": 7,
   "id": "de511f8a-24dc-4a01-951e-be815e5523af",
   "metadata": {},
   "outputs": [
    {
     "name": "stdout",
     "output_type": "stream",
     "text": [
      "             Tag  reference_mass_ratio                         remnant_dimensionless_spin  reference_chi_eff\n",
      "0   SXS:BBH:0031              3.001326  [-1.72916805313e-08, -8.27039434208e-09, 0.755...           0.374702\n",
      "1   SXS:BBH:0033              3.001262  [0.0925073095404, 0.00694581930202, 0.73287879...           0.324111\n",
      "2   SXS:BBH:0041              3.001324  [-1.11137733299e-07, 6.61033598023e-08, 0.7550...           0.374693\n",
      "3   SXS:BBH:0043              3.001285  [0.110356204651, 0.00625487601903, 0.731014823...           0.324302\n",
      "4   SXS:BBH:0045              2.999804  [-1.5831243272e-08, -2.26826286557e-08, 0.7410...           0.249803\n",
      "5   SXS:BBH:0048              2.999806  [0.0230026946098, -0.00238207171617, 0.7550623...           0.374590\n",
      "6   SXS:BBH:0051              2.999804  [-0.0230150191869, 0.00242102062741, 0.7550582...           0.374582\n",
      "7   SXS:BBH:0104              2.999804  [-0.0229698791899, 0.00234673671278, 0.7551151...           0.374582\n",
      "8   SXS:BBH:0174              3.001317  [1.35276672706e-10, -2.70058521256e-09, 0.7555...           0.374698\n",
      "9   SXS:BBH:0287              2.999897  [-1.0648201389e-08, -1.18261129096e-07, 0.7798...           0.300048\n",
      "10  SXS:BBH:0288              3.000005  [-5.88138574239e-09, 4.72804943145e-08, 0.7854...           0.349960\n",
      "11  SXS:BBH:0292              2.999266  [-2.86384864525e-08, -8.26804234851e-08, 0.826...           0.336121\n",
      "12  SXS:BBH:0317              3.327067  [5.41627984513e-07, -2.15023016835e-07, 0.7461...           0.298256\n",
      "13  SXS:BBH:0513              2.000016  [4.09345803219e-08, -1.44363743406e-07, 0.7866...           0.266628\n",
      "14  SXS:BBH:0745              2.000058  [-0.115758725492, -0.115105397436, 0.815073159...           0.380873\n",
      "15  SXS:BBH:0748              2.000129  [-0.0781636333483, -0.16911402518, 0.818750754...           0.391385\n",
      "16  SXS:BBH:0749              2.000174  [-0.0805873687467, -0.0690471498678, 0.8099186...           0.381705\n",
      "17  SXS:BBH:1126              2.000197  [-0.0041645111885, -0.112097132974, 0.76545898...           0.283220\n",
      "18  SXS:BBH:1127              2.000025  [0.00424450907602, 0.112042622685, 0.765361607...           0.283216\n",
      "19  SXS:BBH:1160              3.000163   [0.170985102471, 0.099402896237, 0.735775161417]           0.221190\n",
      "20  SXS:BBH:1161              3.000385   [0.174541614486, 0.109082091566, 0.732372277322]           0.221990\n",
      "21  SXS:BBH:1162              3.000387   [0.174556972442, 0.109342684756, 0.732830400851]           0.222022\n",
      "22  SXS:BBH:1163              3.000389    [0.174552741685, 0.10937866665, 0.732894829094]           0.222022\n",
      "23  SXS:BBH:1348              2.994384   [0.170847966999, 0.160777145072, 0.722890238766]           0.368093\n",
      "24  SXS:BBH:1350              2.402459  [0.0787252653791, -0.230848048978, 0.739312068...           0.385734\n",
      "25  SXS:BBH:1384              3.000403    [0.17424375637, 0.108351164051, 0.731111788254]           0.221928\n",
      "26  SXS:BBH:1387              2.983100  [1.66540429702e-08, 1.05315782568e-06, 0.73285...           0.261599\n",
      "27  SXS:BBH:1453              2.352106  [-3.40006039374e-08, 3.53794307176e-07, 0.8406...           0.327489\n",
      "28  SXS:BBH:1483              3.165576  [8.62203118757e-07, -2.12265719658e-06, 0.7721...           0.379472\n",
      "29  SXS:BBH:1486              3.722746  [-2.86204818512e-07, -2.03958510484e-07, 0.700...           0.329650\n",
      "30  SXS:BBH:1514              2.145019  [0.119697767843, -0.0958626573416, 0.697946215...           0.243240\n",
      "31  SXS:BBH:1521              3.068743  [-0.103647720258, 0.125228603351, 0.732926556037]           0.357785\n",
      "32  SXS:BBH:1525              3.101080  [0.00919847411151, 0.0400910537644, 0.75094175...           0.291660\n",
      "33  SXS:BBH:1528              2.874797  [0.0218793315677, 0.205839287676, 0.759598148998]           0.259880\n",
      "34  SXS:BBH:1531              3.121882  [0.102710303916, -0.0437816132904, 0.783551062...           0.373128\n",
      "35  SXS:BBH:1532              3.015491  [-0.243458081455, -0.0372126629112, 0.73258185...           0.208408\n",
      "36  SXS:BBH:1537              3.241188  [-0.131260161201, -0.213777149102, 0.712671141...           0.345029\n",
      "37  SXS:BBH:1546              3.091078   [0.196171577954, 0.0426231778846, 0.69362600332]           0.230711\n",
      "38  SXS:BBH:1551              2.851078  [0.123336133144, -0.110018067549, 0.752492292521]           0.216136\n",
      "39  SXS:BBH:1564              2.479118  [-0.207583219183, -0.0348365440351, 0.76527999...           0.392393\n",
      "40  SXS:BBH:1566              2.567160  [-0.127049501506, 0.211431913204, 0.742719122058]           0.394144\n",
      "41  SXS:BBH:1585              2.631734  [0.146555284246, -0.00724664380108, 0.68933322...           0.260097\n",
      "42  SXS:BBH:1587              3.389792   [0.280816112148, 0.165165080454, 0.659981128739]           0.244025\n",
      "43  SXS:BBH:1589              2.917842  [-0.211878961375, -0.0472741573112, 0.72442433...           0.366478\n",
      "44  SXS:BBH:1593              3.500109  [0.000104056413022, -0.267854239557, 0.6813397...           0.253135\n",
      "45  SXS:BBH:1594              3.028156  [-0.165098239865, -0.0863451934706, 0.72135827...           0.267310\n",
      "46  SXS:BBH:1618              2.620338  [-0.0502069069287, 0.266517170553, 0.707072352...           0.200694\n",
      "47  SXS:BBH:1623              3.929598  [0.0236238188039, 0.258816205007, 0.718762568371]           0.248646\n",
      "48  SXS:BBH:1636              3.640631  [0.0313075980942, -0.167384790112, 0.698858081...           0.227657\n",
      "49  SXS:BBH:1638              2.407844  [-0.193010057061, -0.0325592336435, 0.78642935...           0.266503\n",
      "50  SXS:BBH:1649              2.838695  [0.103067994674, -0.204174824903, 0.792542310146]           0.341327\n",
      "51  SXS:BBH:1663              3.594285   [0.197577640269, 0.140770992036, 0.771422845357]           0.348630\n",
      "52  SXS:BBH:1664              2.327251    [0.1619786361, -0.112083164225, 0.796369557401]           0.360760\n",
      "53  SXS:BBH:1666              2.324545  [-0.175415949326, -0.0815015209157, 0.76609516...           0.271453\n",
      "54  SXS:BBH:1671              2.493926  [-0.0105679524918, 0.077277406935, 0.77602224341]           0.357533\n",
      "55  SXS:BBH:1676              3.253419  [0.0651227381611, 0.0440658750809, 0.730047718...           0.384141\n",
      "56  SXS:BBH:1690              3.224973  [-0.206064447331, -0.0392218677452, 0.81061175...           0.376055\n",
      "57  SXS:BBH:1694              3.177967  [0.00567230978878, -0.239992638868, 0.76100142...           0.317883\n",
      "58  SXS:BBH:1718              2.312509  [-0.0517609331782, 0.176794602803, 0.808593908...           0.380581\n",
      "59  SXS:BBH:1721              2.775382  [0.0756151230536, 0.240266584798, 0.683821293611]           0.256561\n",
      "60  SXS:BBH:1723              3.603608  [0.0946836253965, 0.189271399896, 0.699893637035]           0.275464\n",
      "61  SXS:BBH:1742              2.645761   [0.197789661387, 0.113394660751, 0.769973128621]           0.271848\n",
      "62  SXS:BBH:1748              2.548439  [0.0192510444189, -0.0304538593278, 0.77007659...           0.399458\n",
      "63  SXS:BBH:1750              2.499717  [0.0272366718404, 0.0287548833731, 0.748951657...           0.373755\n",
      "64  SXS:BBH:1751              3.955050  [-0.177084660198, 0.117683156477, 0.694295437162]           0.382347\n",
      "65  SXS:BBH:1770              2.553005   [0.19329745834, 0.0594990591062, 0.802458103947]           0.295975\n",
      "66  SXS:BBH:1776              2.686729    [0.12807101197, 0.147885806863, 0.770563146255]           0.309701\n",
      "67  SXS:BBH:1777              2.721947  [0.130291253921, -0.210817059498, 0.728493114469]           0.283355\n",
      "68  SXS:BBH:1800              2.012832  [0.182304499991, -0.127057753934, 0.791488444343]           0.368823\n",
      "69  SXS:BBH:1804              2.777554   [0.117480023183, 0.109381735786, 0.783344439983]           0.371629\n",
      "70  SXS:BBH:1805              3.415159  [-0.122655974478, 0.0279337600145, 0.717788950...           0.374306\n",
      "71  SXS:BBH:1820              2.855796  [0.152018543484, -0.106500386029, 0.685666658255]           0.247834\n",
      "72  SXS:BBH:1822              2.303003   [0.043007322819, 0.190151696628, 0.708645261178]           0.271144\n",
      "73  SXS:BBH:1826              3.147143   [0.212448401624, 0.233682953342, 0.639230707059]           0.259561\n",
      "74  SXS:BBH:1830              2.623770  [0.00370205204591, -0.0151127307308, 0.7232191...           0.306849\n",
      "75  SXS:BBH:1838              3.438841   [-0.223576738446, 0.131054121803, 0.73262368602]           0.276275\n",
      "76  SXS:BBH:1839              3.759604  [0.0793299221112, -0.170310054085, 0.745575069...           0.307837\n",
      "77  SXS:BBH:1847              3.222510   [0.238283425078, 0.178714267974, 0.747459208588]           0.311457\n",
      "78  SXS:BBH:1851              3.550625  [-0.0226212377285, 0.0563852396593, 0.78021709...           0.352745\n",
      "79  SXS:BBH:1852              3.034334  [-0.131777618124, 0.157160587433, 0.756346259551]           0.265556\n",
      "80  SXS:BBH:1861              3.605420  [-0.149054645804, -0.127341246808, 0.77037271953]           0.303241\n",
      "81  SXS:BBH:1887              3.059026  [0.0594839224359, -0.154959860782, 0.816199498...           0.395206\n",
      "82  SXS:BBH:1890              3.990435  [-0.139898157384, 0.131760760815, 0.674788962102]           0.231030\n",
      "83  SXS:BBH:1894              2.985198  [-0.234961911358, -0.11426899762, 0.771093093439]           0.344289\n",
      "84  SXS:BBH:1895              2.175135  [0.0435414641872, 0.182051252887, 0.756181775914]           0.337915\n",
      "85  SXS:BBH:1901              2.564440  [0.0389255127859, -0.198606860287, 0.795097031...           0.364163\n",
      "86  SXS:BBH:1903              2.983486  [0.201023335084, -0.0247410307563, 0.728442855...           0.257298\n",
      "87  SXS:BBH:1969              3.999163  [0.0690555737612, -0.259401615441, 0.783665067...           0.302922\n",
      "88  SXS:BBH:1973              3.999530    [0.188894221535, 0.19310380863, 0.783463557357]           0.295730\n",
      "89  SXS:BBH:1979              3.999233  [-0.257696424433, 0.0702456237519, 0.785722989...           0.319365\n",
      "90  SXS:BBH:2125              2.000058  [-4.30375747359e-09, -2.65140826693e-08, 0.734...           0.299916\n",
      "91  SXS:BBH:2159              2.999904  [-7.09573372726e-08, 3.83795647648e-09, 0.7798...           0.300104\n",
      "92  SXS:BBH:2160              3.000070  [-1.33852786528e-08, 1.75125212483e-07, 0.7854...           0.350071\n"
     ]
    }
   ],
   "source": [
    "sxs_conditions=['BBH',['reference_mass_ratio',[2,4]],['remnant_dimensionless_spin',[0.7,0.9]],['reference_chi_eff',[0.2,0.4]]]\n",
    "sxs_selection=nr.nr_catalogue_select(sxs_conditions,code='SXS',verbose=True)"
   ]
  },
  {
   "cell_type": "code",
   "execution_count": 8,
   "id": "9a0d69bf-4d4d-4854-950b-375b4a2435a7",
   "metadata": {},
   "outputs": [
    {
     "name": "stdout",
     "output_type": "stream",
     "text": [
      "              Tag relaxed-mass-ratio-1-over-2     final-chi  eccentricity\n",
      "0    RIT:BBH:0348           0.600021233110695  0.5136755163  0.0014409817\n",
      "1    RIT:BBH:0949           0.999994234533009  0.7311311487  0.0009138657\n",
      "2    RIT:BBH:0827            0.59980006990024  0.6861153537  0.0020615387\n",
      "3    RIT:BBH:0402           0.600096215759514  0.8526335314  0.0009536762\n",
      "4    RIT:BBH:0036           0.500108708314353  0.9027193189  0.0021756908\n",
      "..            ...                         ...           ...           ...\n",
      "766  RIT:BBH:0893           0.924819535519753  0.8402056334  0.0012358844\n",
      "767  RIT:BBH:0304            0.66676002292701  0.5492698211  0.0013724038\n",
      "768  RIT:BBH:0520           0.818549674547101  0.6315784761  0.0018406786\n",
      "769  RIT:BBH:1001           0.550012191507429  0.3354938879  0.0015005994\n",
      "770  RIT:BBH:0292           0.666724283089485  0.9063062691  0.0012393530\n",
      "\n",
      "[771 rows x 4 columns]\n"
     ]
    }
   ],
   "source": [
    "rit_conditions=['BBH',['relaxed-mass-ratio-1-over-2',[0.3,1]],['final-chi',[0,1]],['eccentricity',[0,0.5]]]\n",
    "rit_selection=nr.nr_catalogue_select(rit_conditions,code='RIT',verbose=True)"
   ]
  },
  {
   "cell_type": "code",
   "execution_count": 9,
   "id": "20938265-ab19-4ded-bd07-1d07c6efff46",
   "metadata": {},
   "outputs": [
    {
     "data": {
      "text/plain": [
       "\u001b[0;31mSignature:\u001b[0m\n",
       "\u001b[0mnr\u001b[0m\u001b[0;34m.\u001b[0m\u001b[0mnr_waveform\u001b[0m\u001b[0;34m(\u001b[0m\u001b[0;34m\u001b[0m\n",
       "\u001b[0;34m\u001b[0m    \u001b[0mdownload_Q\u001b[0m\u001b[0;34m=\u001b[0m\u001b[0;32mTrue\u001b[0m\u001b[0;34m,\u001b[0m\u001b[0;34m\u001b[0m\n",
       "\u001b[0;34m\u001b[0m    \u001b[0mroot_folder\u001b[0m\u001b[0;34m=\u001b[0m\u001b[0;32mNone\u001b[0m\u001b[0;34m,\u001b[0m\u001b[0;34m\u001b[0m\n",
       "\u001b[0;34m\u001b[0m    \u001b[0mpycbc_format\u001b[0m\u001b[0;34m=\u001b[0m\u001b[0;32mTrue\u001b[0m\u001b[0;34m,\u001b[0m\u001b[0;34m\u001b[0m\n",
       "\u001b[0;34m\u001b[0m    \u001b[0mmodes\u001b[0m\u001b[0;34m=\u001b[0m\u001b[0;34m[\u001b[0m\u001b[0;34m[\u001b[0m\u001b[0;36m2\u001b[0m\u001b[0;34m,\u001b[0m \u001b[0;36m2\u001b[0m\u001b[0;34m]\u001b[0m\u001b[0;34m,\u001b[0m \u001b[0;34m[\u001b[0m\u001b[0;36m2\u001b[0m\u001b[0;34m,\u001b[0m \u001b[0;34m-\u001b[0m\u001b[0;36m2\u001b[0m\u001b[0;34m]\u001b[0m\u001b[0;34m]\u001b[0m\u001b[0;34m,\u001b[0m\u001b[0;34m\u001b[0m\n",
       "\u001b[0;34m\u001b[0m    \u001b[0mdistance\u001b[0m\u001b[0;34m=\u001b[0m\u001b[0;36m100\u001b[0m\u001b[0;34m,\u001b[0m\u001b[0;34m\u001b[0m\n",
       "\u001b[0;34m\u001b[0m    \u001b[0minclination\u001b[0m\u001b[0;34m=\u001b[0m\u001b[0;36m0\u001b[0m\u001b[0;34m,\u001b[0m\u001b[0;34m\u001b[0m\n",
       "\u001b[0;34m\u001b[0m    \u001b[0mcoa_phase\u001b[0m\u001b[0;34m=\u001b[0m\u001b[0;36m0\u001b[0m\u001b[0;34m,\u001b[0m\u001b[0;34m\u001b[0m\n",
       "\u001b[0;34m\u001b[0m    \u001b[0mmodes_combined\u001b[0m\u001b[0;34m=\u001b[0m\u001b[0;32mTrue\u001b[0m\u001b[0;34m,\u001b[0m\u001b[0;34m\u001b[0m\n",
       "\u001b[0;34m\u001b[0m    \u001b[0mtapering\u001b[0m\u001b[0;34m=\u001b[0m\u001b[0;32mTrue\u001b[0m\u001b[0;34m,\u001b[0m\u001b[0;34m\u001b[0m\n",
       "\u001b[0;34m\u001b[0m    \u001b[0mRD\u001b[0m\u001b[0;34m=\u001b[0m\u001b[0;32mFalse\u001b[0m\u001b[0;34m,\u001b[0m\u001b[0;34m\u001b[0m\n",
       "\u001b[0;34m\u001b[0m    \u001b[0mzero_align\u001b[0m\u001b[0;34m=\u001b[0m\u001b[0;32mTrue\u001b[0m\u001b[0;34m,\u001b[0m\u001b[0;34m\u001b[0m\n",
       "\u001b[0;34m\u001b[0m    \u001b[0mextrapolation_order\u001b[0m\u001b[0;34m=\u001b[0m\u001b[0;36m2\u001b[0m\u001b[0;34m,\u001b[0m\u001b[0;34m\u001b[0m\n",
       "\u001b[0;34m\u001b[0m    \u001b[0mresolution_level\u001b[0m\u001b[0;34m=\u001b[0m\u001b[0;34m-\u001b[0m\u001b[0;36m1\u001b[0m\u001b[0;34m,\u001b[0m\u001b[0;34m\u001b[0m\n",
       "\u001b[0;34m\u001b[0m    \u001b[0;34m**\u001b[0m\u001b[0margs\u001b[0m\u001b[0;34m,\u001b[0m\u001b[0;34m\u001b[0m\n",
       "\u001b[0;34m\u001b[0m\u001b[0;34m)\u001b[0m\u001b[0;34m\u001b[0m\u001b[0;34m\u001b[0m\u001b[0m\n",
       "\u001b[0;31mDocstring:\u001b[0m\n",
       "Function to load the waveforms from the NR catalogues. \n",
       "\n",
       "    Parameters\n",
       "----------\n",
       "code: {'SXS','RIT','MAYA'}. Select the catalogue you want the data from.\n",
       "tag: eg. {'SXS:BBH:0305','RIT-BBH-0001','GT0001'}. Tag of the target waveform.\n",
       "download_Q: logical, optional, Default = True. If True downloads the data from the catalogue url.\n",
       "root_folder: string, optional, Default = None. If download_Q = False, it must be provided.\n",
       "pycbc_format: logical, optional, Default=True. If True it provides hp, hc in the Timeseries format.\n",
       "\n",
       "mass: Total mass in solar masses. \n",
       "modes: list of modes, optional, Default= [[2,2],[2,-2]].\n",
       "distance: Distance, optional, Default = 100 Mpc.\n",
       "inclination: Inclination, optional, Default = 0.\n",
       "coa_phase: Coalescense phase, optional, Default = 0.\n",
       "\n",
       "modes_combined: list, optional, Default = True. If False it splits the list of individual modes.\n",
       "delta_t: time sampling. \n",
       "tapering: logical, optional, Default = True. If True it applies a Tanh tappering function at the initial and ending points of the data.\n",
       "RD: logical, optional, Default= False. If True it provides the ringdown part.\n",
       "zero_align: logical, optional, Default= True. If True it aligns the waveform such that the peak of the strain is at t=0.   \n",
       "\n",
       "-- Applied for the SXS data.\n",
       "extrapolation_order: int, {2,3,4}, Default=2. SXS extrapolation order.\n",
       "resolution_level: int, {1,2,...}, Default = -1. It takes by default the best resolution available.\n",
       "\n",
       "\n",
       "Returns\n",
       "-------\n",
       "hplus: The plus polarization of the waveform.\n",
       "hcross: The cross polarization of the waveform.\n",
       "\u001b[0;31mFile:\u001b[0m      ~/venv_sc/lib/python3.7/site-packages/pynr-0.1.0-py3.7.egg/pynr/pynr.py\n",
       "\u001b[0;31mType:\u001b[0m      function\n"
      ]
     },
     "metadata": {},
     "output_type": "display_data"
    }
   ],
   "source": [
    "nr.nr_waveform?"
   ]
  },
  {
   "cell_type": "code",
   "execution_count": 10,
   "id": "d06d53b7-0fd9-4cc4-a708-73f9441b220e",
   "metadata": {},
   "outputs": [
    {
     "name": "stdout",
     "output_type": "stream",
     "text": [
      "Extracting and combining modes\n"
     ]
    }
   ],
   "source": [
    "hp_rit,hx_rit= nr.nr_waveform(code='RIT',\n",
    "                              pycbc_format=True,\n",
    "    rit_root_folder='/work/francisco.jimenez/RIT/Data',\n",
    "    download_Q = True,\n",
    "    tag = 'RIT:BBH:0001',\n",
    "    modes  = [[2,2],[2,-2]],\n",
    "    mass  = 100,\n",
    "    distance  = 100,\n",
    "    inclination = 0,\n",
    "    coa_phase = 0,\n",
    "    modes_combined = True,\n",
    "    delta_t = 1/1024,\n",
    "    tapering = False,\n",
    "    RD = False,\n",
    "    zero_align = True)"
   ]
  },
  {
   "cell_type": "code",
   "execution_count": 11,
   "id": "ca0e20c4-62f7-41f3-b5fb-fa58f6ca92fc",
   "metadata": {},
   "outputs": [
    {
     "name": "stdout",
     "output_type": "stream",
     "text": [
      "Skipping download from 'https://data.black-holes.org/catalog.json' because local file is newer\n"
     ]
    },
    {
     "name": "stderr",
     "output_type": "stream",
     "text": [
      "/work/francisco.jimenez/venv_sc/lib/python3.7/site-packages/sxs/waveforms/nrar.py:173: UserWarning: \n",
      "Could not find root group as `h5_group` or as `extrapolation_order`; returning all groups\n",
      "  warnings.warn(warning)\n"
     ]
    },
    {
     "name": "stdout",
     "output_type": "stream",
     "text": [
      "Extracting and combining modes\n"
     ]
    }
   ],
   "source": [
    "hp_sxs,hx_sxs= nr.nr_waveform(code='SXS',pycbc_format=True,\n",
    "    download_Q = True,\n",
    "    tag = 'SXS:BBH:0305',\n",
    "    extrapolation_order = 2,\n",
    "    resolution_level = -1,\n",
    "    modes  = [[2,2],[2,-2]],\n",
    "    mass  = 100,\n",
    "    distance  = 100,\n",
    "    inclination = 0,\n",
    "    coa_phase = 0,\n",
    "    modes_combined = True,\n",
    "    delta_t = 1/1024,\n",
    "    tapering = False,\n",
    "    RD = False,\n",
    "    zero_align = True )"
   ]
  },
  {
   "cell_type": "code",
   "execution_count": 12,
   "id": "1f1ef940-b06b-4b1a-a99b-f0353930208b",
   "metadata": {},
   "outputs": [
    {
     "name": "stdout",
     "output_type": "stream",
     "text": [
      "Extracting and combining modes\n"
     ]
    }
   ],
   "source": [
    "hp_maya,hx_maya= nr.nr_waveform(code='MAYA',pycbc_format=True,\n",
    "    download_Q = True,\n",
    "    tag = 'GT0229',\n",
    "    modes  = [[2,2],[2,-2]],\n",
    "    mass  = 100,\n",
    "    distance  = 100,\n",
    "    inclination = 0,\n",
    "    coa_phase = 0,\n",
    "    modes_combined = True,\n",
    "    delta_t = 1/1024,\n",
    "    tapering = False,\n",
    "    RD = False,\n",
    "    zero_align = True )"
   ]
  },
  {
   "cell_type": "markdown",
   "id": "93bc4e38-0171-48ee-ac1c-e6a3862dbfd6",
   "metadata": {},
   "source": [
    "Plot the data"
   ]
  },
  {
   "cell_type": "code",
   "execution_count": 13,
   "id": "b5f6fadc-9839-4c58-a84b-b6b95e3a6e70",
   "metadata": {},
   "outputs": [
    {
     "data": {
      "image/png": "[encoded data removed]",
      "text/plain": [
       "<Figure size 432x288 with 1 Axes>"
      ]
     },
     "metadata": {
      "needs_background": "light"
     },
     "output_type": "display_data"
    }
   ],
   "source": [
    "plt.plot(hp_rit.sample_times,hp_rit,label='RIT')\n",
    "plt.plot(hp_sxs.sample_times,hp_sxs,label='SXS')\n",
    "plt.plot(hp_maya.sample_times,hp_maya,label='MAYA')\n",
    "\n",
    "plt.xlabel('t [s]')\n",
    "plt.ylabel('hp')\n",
    "plt.legend()\n",
    "plt.show()"
   ]
  }
 ],
 "metadata": {
  "kernelspec": {
   "display_name": "Python 3",
   "language": "python",
   "name": "python3"
  },
  "language_info": {
   "codemirror_mode": {
    "name": "ipython",
    "version": 3
   },
   "file_extension": ".py",
   "mimetype": "text/x-python",
   "name": "python",
   "nbconvert_exporter": "python",
   "pygments_lexer": "ipython3",
   "version": "3.7.3"
  }
 },
 "nbformat": 4,
 "nbformat_minor": 5
}
