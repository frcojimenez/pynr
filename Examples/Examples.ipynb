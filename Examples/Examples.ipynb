{
 "cells": [
  {
   "cell_type": "code",
   "execution_count": null,
   "id": "4c531811-f15d-4ad9-9e40-f084440ab726",
   "metadata": {},
   "outputs": [],
   "source": [
    "import pynr as nr\n",
    "import matplotlib.pyplot as plt"
   ]
  },
  {
   "cell_type": "markdown",
   "id": "1fdbb590-84e5-497c-8dfc-378c3565a375",
   "metadata": {},
   "source": [
    "Load the RIT data"
   ]
  },
  {
   "cell_type": "code",
   "execution_count": null,
   "id": "2e7596af-a764-4099-94fd-28a65175d4be",
   "metadata": {},
   "outputs": [],
   "source": [
    "hp_rit,hx_rit= nr.nr_waveform(code='RIT',\n",
    "                              pycbc_format=True,\n",
    "    rit_root_folder='/work/francisco.jimenez/RIT/Data',\n",
    "    download_Q = True,\n",
    "    tag = 'RIT:BBH:0001',\n",
    "    modes  = [[2,2],[2,-2]],\n",
    "    mass  = 100,\n",
    "    distance  = 100,\n",
    "    inclination = 0,\n",
    "    coa_phase = 0,\n",
    "    modes_combined = True,\n",
    "    delta_t = 1/1024,\n",
    "    tapering = False,\n",
    "    RD = False,\n",
    "    zero_align = True)"
   ]
  },
  {
   "cell_type": "markdown",
   "id": "abece8a8-d7d5-4073-aef3-61660a5b073b",
   "metadata": {},
   "source": [
    "Load the SXS data"
   ]
  },
  {
   "cell_type": "code",
   "execution_count": null,
   "id": "8b544bba-557f-4ef7-ad92-a0987b63c6b4",
   "metadata": {},
   "outputs": [],
   "source": [
    "hp_sxs,hx_sxs= nr.nr_waveform(code='SXS',pycbc_format=True,\n",
    "    download_Q = True,\n",
    "    tag = 'SXS:BBH:0305',\n",
    "    extrapolation_order = 2,\n",
    "    resolution_level = -1,\n",
    "    modes  = [[2,2],[2,-2]],\n",
    "    mass  = 100,\n",
    "    distance  = 100,\n",
    "    inclination = 0,\n",
    "    coa_phase = 0,\n",
    "    modes_combined = True,\n",
    "    delta_t = 1/1024,\n",
    "    tapering = False,\n",
    "    RD = False,\n",
    "    zero_align = True )"
   ]
  },
  {
   "cell_type": "markdown",
   "id": "ba98e7e4-1f40-4746-9c90-2afd840bd87a",
   "metadata": {},
   "source": [
    "Load the MAYA data"
   ]
  },
  {
   "cell_type": "code",
   "execution_count": null,
   "id": "cba78ceb-f3ed-46f8-95b2-a4c2497d6cdd",
   "metadata": {},
   "outputs": [],
   "source": [
    "hp_maya,hx_maya= nr.nr_waveform(code='MAYA',pycbc_format=True,\n",
    "    download_Q = True,\n",
    "    tag = 'GT0229',\n",
    "    modes  = [[2,2],[2,-2]],\n",
    "    mass  = 100,\n",
    "    distance  = 100,\n",
    "    inclination = 0,\n",
    "    coa_phase = 0,\n",
    "    modes_combined = True,\n",
    "    delta_t = 1/1024,\n",
    "    tapering = False,\n",
    "    RD = False,\n",
    "    zero_align = True )"
   ]
  },
  {
   "cell_type": "code",
   "execution_count": null,
   "id": "cf256646-6d25-4c3c-8d19-aa5f7fc8eb53",
   "metadata": {},
   "outputs": [],
   "source": [
    "plt.plot(hp_rit.sample_times,hp_rit,label='RIT')\n",
    "plt.plot(hp_sxs.sample_times,hp_sxs,label='SXS')\n",
    "plt.plot(hp_maya.sample_times,hp_maya,label='MAYA')\n",
    "\n",
    "plt.xlabel('t [s]')\n",
    "plt.ylabel('hp')\n",
    "plt.legend()\n",
    "plt.show()"
   ]
  },
  {
   "cell_type": "code",
   "execution_count": null,
   "id": "c755628d-8a59-42c1-82b6-c4e400417fcb",
   "metadata": {},
   "outputs": [],
   "source": []
  }
 ],
 "metadata": {
  "kernelspec": {
   "display_name": "Python 3",
   "language": "python",
   "name": "python3"
  },
  "language_info": {
   "codemirror_mode": {
    "name": "ipython",
    "version": 3
   },
   "file_extension": ".py",
   "mimetype": "text/x-python",
   "name": "python",
   "nbconvert_exporter": "python",
   "pygments_lexer": "ipython3",
   "version": "3.7.3"
  }
 },
 "nbformat": 4,
 "nbformat_minor": 5
}
